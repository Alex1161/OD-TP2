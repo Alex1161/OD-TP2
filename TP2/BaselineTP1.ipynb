{
 "cells": [
  {
   "cell_type": "markdown",
   "id": "duplicate-cargo",
   "metadata": {},
   "source": [
    "# Baseline TP Parte 1"
   ]
  },
  {
   "cell_type": "code",
   "execution_count": 1,
   "id": "outside-physics",
   "metadata": {},
   "outputs": [],
   "source": [
    "from common import get_prediction, split_data, get_data"
   ]
  },
  {
   "cell_type": "markdown",
   "id": "extraordinary-bobby",
   "metadata": {},
   "source": [
    "## Cargamos el dataset"
   ]
  },
  {
   "cell_type": "code",
   "execution_count": 2,
   "id": "experienced-dining",
   "metadata": {},
   "outputs": [
    {
     "data": {
      "text/html": [
       "<div>\n",
       "<style scoped>\n",
       "    .dataframe tbody tr th:only-of-type {\n",
       "        vertical-align: middle;\n",
       "    }\n",
       "\n",
       "    .dataframe tbody tr th {\n",
       "        vertical-align: top;\n",
       "    }\n",
       "\n",
       "    .dataframe thead th {\n",
       "        text-align: right;\n",
       "    }\n",
       "</style>\n",
       "<table border=\"1\" class=\"dataframe\">\n",
       "  <thead>\n",
       "    <tr style=\"text-align: right;\">\n",
       "      <th></th>\n",
       "      <th>tipo_de_sala</th>\n",
       "      <th>nombre</th>\n",
       "      <th>id_usuario</th>\n",
       "      <th>genero</th>\n",
       "      <th>edad</th>\n",
       "      <th>amigos</th>\n",
       "      <th>parientes</th>\n",
       "      <th>id_ticket</th>\n",
       "      <th>precio_ticket</th>\n",
       "      <th>fila</th>\n",
       "      <th>nombre_sede</th>\n",
       "    </tr>\n",
       "  </thead>\n",
       "  <tbody>\n",
       "    <tr>\n",
       "      <th>0</th>\n",
       "      <td>4d</td>\n",
       "      <td>Señor Camilo Pedro</td>\n",
       "      <td>117</td>\n",
       "      <td>hombre</td>\n",
       "      <td>73.5</td>\n",
       "      <td>0</td>\n",
       "      <td>0</td>\n",
       "      <td>59258;</td>\n",
       "      <td>1</td>\n",
       "      <td>NaN</td>\n",
       "      <td>fiumark_quilmes</td>\n",
       "    </tr>\n",
       "    <tr>\n",
       "      <th>1</th>\n",
       "      <td>4d</td>\n",
       "      <td>Señora Raquel Angelica</td>\n",
       "      <td>658</td>\n",
       "      <td>mujer</td>\n",
       "      <td>35.0</td>\n",
       "      <td>1</td>\n",
       "      <td>1</td>\n",
       "      <td>586:6;</td>\n",
       "      <td>2</td>\n",
       "      <td>NaN</td>\n",
       "      <td>fiumark_quilmes</td>\n",
       "    </tr>\n",
       "    <tr>\n",
       "      <th>2</th>\n",
       "      <td>normal</td>\n",
       "      <td>Señor Antonio Federico</td>\n",
       "      <td>794</td>\n",
       "      <td>hombre</td>\n",
       "      <td>NaN</td>\n",
       "      <td>0</td>\n",
       "      <td>0</td>\n",
       "      <td>RE\"39822</td>\n",
       "      <td>3</td>\n",
       "      <td>NaN</td>\n",
       "      <td>fiumark_chacarita</td>\n",
       "    </tr>\n",
       "    <tr>\n",
       "      <th>3</th>\n",
       "      <td>4d</td>\n",
       "      <td>Señor Osvaldo Aureliano</td>\n",
       "      <td>455</td>\n",
       "      <td>hombre</td>\n",
       "      <td>NaN</td>\n",
       "      <td>0</td>\n",
       "      <td>0</td>\n",
       "      <td>C17\"4:39</td>\n",
       "      <td>1</td>\n",
       "      <td>NaN</td>\n",
       "      <td>fiumark_palermo</td>\n",
       "    </tr>\n",
       "    <tr>\n",
       "      <th>4</th>\n",
       "      <td>4d</td>\n",
       "      <td>Señorita Rita Eudosia</td>\n",
       "      <td>173</td>\n",
       "      <td>mujer</td>\n",
       "      <td>4.0</td>\n",
       "      <td>1</td>\n",
       "      <td>1</td>\n",
       "      <td>569964</td>\n",
       "      <td>2</td>\n",
       "      <td>NaN</td>\n",
       "      <td>fiumark_palermo</td>\n",
       "    </tr>\n",
       "  </tbody>\n",
       "</table>\n",
       "</div>"
      ],
      "text/plain": [
       "  tipo_de_sala                   nombre  id_usuario  genero  edad  amigos  \\\n",
       "0           4d       Señor Camilo Pedro         117  hombre  73.5       0   \n",
       "1           4d   Señora Raquel Angelica         658   mujer  35.0       1   \n",
       "2       normal   Señor Antonio Federico         794  hombre   NaN       0   \n",
       "3           4d  Señor Osvaldo Aureliano         455  hombre   NaN       0   \n",
       "4           4d    Señorita Rita Eudosia         173   mujer   4.0       1   \n",
       "\n",
       "   parientes id_ticket  precio_ticket fila        nombre_sede  \n",
       "0          0    59258;              1  NaN    fiumark_quilmes  \n",
       "1          1    586:6;              2  NaN    fiumark_quilmes  \n",
       "2          0  RE\"39822              3  NaN  fiumark_chacarita  \n",
       "3          0  C17\"4:39              1  NaN    fiumark_palermo  \n",
       "4          1    569964              2  NaN    fiumark_palermo  "
      ]
     },
     "execution_count": 2,
     "metadata": {},
     "output_type": "execute_result"
    }
   ],
   "source": [
    "data = get_data()\n",
    "data.head()"
   ]
  },
  {
   "cell_type": "code",
   "execution_count": 3,
   "id": "adverse-chick",
   "metadata": {},
   "outputs": [
    {
     "data": {
      "text/plain": [
       "0    0\n",
       "1    0\n",
       "2    0\n",
       "3    0\n",
       "4    1\n",
       "Name: volveria, dtype: int64"
      ]
     },
     "execution_count": 3,
     "metadata": {},
     "output_type": "execute_result"
    }
   ],
   "source": [
    "pred = get_prediction()\n",
    "pred.head()"
   ]
  },
  {
   "cell_type": "markdown",
   "id": "asian-dakota",
   "metadata": {},
   "source": [
    "## Dividimos los datos"
   ]
  },
  {
   "cell_type": "markdown",
   "id": "infinite-responsibility",
   "metadata": {},
   "source": [
    "Separamos los datos al igual que todas las notebooks anteriores para poder comparar correctamente las metricas del baseline"
   ]
  },
  {
   "cell_type": "code",
   "execution_count": 4,
   "id": "postal-chocolate",
   "metadata": {},
   "outputs": [
    {
     "data": {
      "text/html": [
       "<div>\n",
       "<style scoped>\n",
       "    .dataframe tbody tr th:only-of-type {\n",
       "        vertical-align: middle;\n",
       "    }\n",
       "\n",
       "    .dataframe tbody tr th {\n",
       "        vertical-align: top;\n",
       "    }\n",
       "\n",
       "    .dataframe thead th {\n",
       "        text-align: right;\n",
       "    }\n",
       "</style>\n",
       "<table border=\"1\" class=\"dataframe\">\n",
       "  <thead>\n",
       "    <tr style=\"text-align: right;\">\n",
       "      <th></th>\n",
       "      <th>tipo_de_sala</th>\n",
       "      <th>nombre</th>\n",
       "      <th>id_usuario</th>\n",
       "      <th>genero</th>\n",
       "      <th>edad</th>\n",
       "      <th>amigos</th>\n",
       "      <th>parientes</th>\n",
       "      <th>id_ticket</th>\n",
       "      <th>precio_ticket</th>\n",
       "      <th>fila</th>\n",
       "      <th>nombre_sede</th>\n",
       "    </tr>\n",
       "  </thead>\n",
       "  <tbody>\n",
       "    <tr>\n",
       "      <th>239</th>\n",
       "      <td>normal</td>\n",
       "      <td>Señor Celestino Miguel</td>\n",
       "      <td>797</td>\n",
       "      <td>mujer</td>\n",
       "      <td>52.0</td>\n",
       "      <td>0</td>\n",
       "      <td>0</td>\n",
       "      <td>39687</td>\n",
       "      <td>3</td>\n",
       "      <td>adelante</td>\n",
       "      <td>fiumark_palermo</td>\n",
       "    </tr>\n",
       "    <tr>\n",
       "      <th>281</th>\n",
       "      <td>4d</td>\n",
       "      <td>Señora Reina Benita</td>\n",
       "      <td>141</td>\n",
       "      <td>mujer</td>\n",
       "      <td>NaN</td>\n",
       "      <td>0</td>\n",
       "      <td>2</td>\n",
       "      <td>489:</td>\n",
       "      <td>2</td>\n",
       "      <td>NaN</td>\n",
       "      <td>fiumark_chacarita</td>\n",
       "    </tr>\n",
       "    <tr>\n",
       "      <th>504</th>\n",
       "      <td>3d</td>\n",
       "      <td>Señor Emeterio de Jesus</td>\n",
       "      <td>309</td>\n",
       "      <td>hombre</td>\n",
       "      <td>33.0</td>\n",
       "      <td>1</td>\n",
       "      <td>0</td>\n",
       "      <td>R1RR\"55:3</td>\n",
       "      <td>3</td>\n",
       "      <td>NaN</td>\n",
       "      <td>fiumark_chacarita</td>\n",
       "    </tr>\n",
       "    <tr>\n",
       "      <th>230</th>\n",
       "      <td>4d</td>\n",
       "      <td>Señor Juan Jorge Alberto</td>\n",
       "      <td>158</td>\n",
       "      <td>hombre</td>\n",
       "      <td>33.0</td>\n",
       "      <td>0</td>\n",
       "      <td>0</td>\n",
       "      <td>UQVQP1QS\"5;42;2</td>\n",
       "      <td>1</td>\n",
       "      <td>NaN</td>\n",
       "      <td>fiumark_palermo</td>\n",
       "    </tr>\n",
       "    <tr>\n",
       "      <th>738</th>\n",
       "      <td>4d</td>\n",
       "      <td>Señor Pablo Augusto</td>\n",
       "      <td>495</td>\n",
       "      <td>hombre</td>\n",
       "      <td>24.0</td>\n",
       "      <td>0</td>\n",
       "      <td>0</td>\n",
       "      <td>C16\"675:2</td>\n",
       "      <td>1</td>\n",
       "      <td>NaN</td>\n",
       "      <td>fiumark_palermo</td>\n",
       "    </tr>\n",
       "  </tbody>\n",
       "</table>\n",
       "</div>"
      ],
      "text/plain": [
       "    tipo_de_sala                    nombre  id_usuario  genero  edad  amigos  \\\n",
       "239       normal    Señor Celestino Miguel         797   mujer  52.0       0   \n",
       "281           4d       Señora Reina Benita         141   mujer   NaN       0   \n",
       "504           3d   Señor Emeterio de Jesus         309  hombre  33.0       1   \n",
       "230           4d  Señor Juan Jorge Alberto         158  hombre  33.0       0   \n",
       "738           4d       Señor Pablo Augusto         495  hombre  24.0       0   \n",
       "\n",
       "     parientes        id_ticket  precio_ticket      fila        nombre_sede  \n",
       "239          0            39687              3  adelante    fiumark_palermo  \n",
       "281          2             489:              2       NaN  fiumark_chacarita  \n",
       "504          0        R1RR\"55:3              3       NaN  fiumark_chacarita  \n",
       "230          0  UQVQP1QS\"5;42;2              1       NaN    fiumark_palermo  \n",
       "738          0        C16\"675:2              1       NaN    fiumark_palermo  "
      ]
     },
     "execution_count": 4,
     "metadata": {},
     "output_type": "execute_result"
    }
   ],
   "source": [
    "X_train_val, X_val_2, y_train_val, y_val_2 = split_data(data, pred)\n",
    "X_train_val.head()"
   ]
  },
  {
   "cell_type": "code",
   "execution_count": 5,
   "id": "immune-branch",
   "metadata": {},
   "outputs": [
    {
     "data": {
      "text/html": [
       "<div>\n",
       "<style scoped>\n",
       "    .dataframe tbody tr th:only-of-type {\n",
       "        vertical-align: middle;\n",
       "    }\n",
       "\n",
       "    .dataframe tbody tr th {\n",
       "        vertical-align: top;\n",
       "    }\n",
       "\n",
       "    .dataframe thead th {\n",
       "        text-align: right;\n",
       "    }\n",
       "</style>\n",
       "<table border=\"1\" class=\"dataframe\">\n",
       "  <thead>\n",
       "    <tr style=\"text-align: right;\">\n",
       "      <th></th>\n",
       "      <th>tipo_de_sala</th>\n",
       "      <th>nombre</th>\n",
       "      <th>id_usuario</th>\n",
       "      <th>genero</th>\n",
       "      <th>edad</th>\n",
       "      <th>amigos</th>\n",
       "      <th>parientes</th>\n",
       "      <th>id_ticket</th>\n",
       "      <th>precio_ticket</th>\n",
       "      <th>fila</th>\n",
       "      <th>nombre_sede</th>\n",
       "    </tr>\n",
       "  </thead>\n",
       "  <tbody>\n",
       "    <tr>\n",
       "      <th>475</th>\n",
       "      <td>4d</td>\n",
       "      <td>Señor Ignacio Nazar</td>\n",
       "      <td>689</td>\n",
       "      <td>hombre</td>\n",
       "      <td>21.0</td>\n",
       "      <td>0</td>\n",
       "      <td>0</td>\n",
       "      <td>572258</td>\n",
       "      <td>1</td>\n",
       "      <td>NaN</td>\n",
       "      <td>fiumark_palermo</td>\n",
       "    </tr>\n",
       "    <tr>\n",
       "      <th>247</th>\n",
       "      <td>4d</td>\n",
       "      <td>Señor Abel Omar</td>\n",
       "      <td>644</td>\n",
       "      <td>hombre</td>\n",
       "      <td>NaN</td>\n",
       "      <td>0</td>\n",
       "      <td>0</td>\n",
       "      <td>3823</td>\n",
       "      <td>6</td>\n",
       "      <td>NaN</td>\n",
       "      <td>fiumark_palermo</td>\n",
       "    </tr>\n",
       "    <tr>\n",
       "      <th>726</th>\n",
       "      <td>normal</td>\n",
       "      <td>Señor Fausto Rene</td>\n",
       "      <td>468</td>\n",
       "      <td>hombre</td>\n",
       "      <td>59.0</td>\n",
       "      <td>0</td>\n",
       "      <td>0</td>\n",
       "      <td>3359;4</td>\n",
       "      <td>3</td>\n",
       "      <td>NaN</td>\n",
       "      <td>fiumark_palermo</td>\n",
       "    </tr>\n",
       "    <tr>\n",
       "      <th>106</th>\n",
       "      <td>3d</td>\n",
       "      <td>Señora Irma Pascualina</td>\n",
       "      <td>707</td>\n",
       "      <td>mujer</td>\n",
       "      <td>48.0</td>\n",
       "      <td>0</td>\n",
       "      <td>0</td>\n",
       "      <td>4457;8</td>\n",
       "      <td>2</td>\n",
       "      <td>NaN</td>\n",
       "      <td>fiumark_palermo</td>\n",
       "    </tr>\n",
       "    <tr>\n",
       "      <th>206</th>\n",
       "      <td>4d</td>\n",
       "      <td>Señor Ovidio Valentin</td>\n",
       "      <td>871</td>\n",
       "      <td>hombre</td>\n",
       "      <td>29.0</td>\n",
       "      <td>0</td>\n",
       "      <td>0</td>\n",
       "      <td>56;46:</td>\n",
       "      <td>1</td>\n",
       "      <td>NaN</td>\n",
       "      <td>fiumark_palermo</td>\n",
       "    </tr>\n",
       "  </tbody>\n",
       "</table>\n",
       "</div>"
      ],
      "text/plain": [
       "    tipo_de_sala                  nombre  id_usuario  genero  edad  amigos  \\\n",
       "475           4d     Señor Ignacio Nazar         689  hombre  21.0       0   \n",
       "247           4d         Señor Abel Omar         644  hombre   NaN       0   \n",
       "726       normal       Señor Fausto Rene         468  hombre  59.0       0   \n",
       "106           3d  Señora Irma Pascualina         707   mujer  48.0       0   \n",
       "206           4d   Señor Ovidio Valentin         871  hombre  29.0       0   \n",
       "\n",
       "     parientes id_ticket  precio_ticket fila      nombre_sede  \n",
       "475          0    572258              1  NaN  fiumark_palermo  \n",
       "247          0      3823              6  NaN  fiumark_palermo  \n",
       "726          0    3359;4              3  NaN  fiumark_palermo  \n",
       "106          0    4457;8              2  NaN  fiumark_palermo  \n",
       "206          0    56;46:              1  NaN  fiumark_palermo  "
      ]
     },
     "execution_count": 5,
     "metadata": {},
     "output_type": "execute_result"
    }
   ],
   "source": [
    "X_train, X_val, y_train, y_val = split_data(X_train_val, y_train_val)\n",
    "X_train.head()"
   ]
  },
  {
   "cell_type": "markdown",
   "id": "premier-directive",
   "metadata": {},
   "source": [
    "## Recordamos el Baseline hecho en la parte 1"
   ]
  },
  {
   "cell_type": "code",
   "execution_count": 6,
   "id": "considerable-wallace",
   "metadata": {},
   "outputs": [],
   "source": [
    "def baseline(df):\n",
    "    lista = []\n",
    "    for c in df.index:\n",
    "        genero = df.loc[c, 'genero']\n",
    "        if genero == 'hombre':\n",
    "            lista.append(0)\n",
    "        elif genero == 'mujer':\n",
    "            tipo_sala = df.loc[c, 'tipo_de_sala']\n",
    "            if tipo_sala == '3d' or tipo_sala == 'normal':\n",
    "                lista.append(1)\n",
    "            elif tipo_sala == '4d':\n",
    "                nombre_sede = df.loc[c, 'nombre_sede']\n",
    "                if nombre_sede == 'fiumark_quilmes' or nombre_sede == 'fiumark_chacarita':\n",
    "                    lista.append(1)\n",
    "                elif nombre_sede == 'fiumark_palermo':\n",
    "                    lista.append(0)\n",
    "                \n",
    "    return lista"
   ]
  },
  {
   "cell_type": "markdown",
   "id": "amino-cooperation",
   "metadata": {},
   "source": [
    "Obtenemos las predicciones del val_2"
   ]
  },
  {
   "cell_type": "code",
   "execution_count": 7,
   "id": "preceding-penalty",
   "metadata": {},
   "outputs": [],
   "source": [
    "tp1_result = baseline(X_val_2)"
   ]
  },
  {
   "cell_type": "code",
   "execution_count": 8,
   "id": "further-identity",
   "metadata": {},
   "outputs": [
    {
     "data": {
      "text/plain": [
       "[0, 0, 0, 1, 0]"
      ]
     },
     "execution_count": 8,
     "metadata": {},
     "output_type": "execute_result"
    }
   ],
   "source": [
    "tp1_result[0:5]"
   ]
  },
  {
   "cell_type": "markdown",
   "id": "settled-words",
   "metadata": {},
   "source": [
    "## Vemos las métricas"
   ]
  },
  {
   "cell_type": "code",
   "execution_count": 9,
   "id": "neutral-antarctica",
   "metadata": {},
   "outputs": [
    {
     "data": {
      "image/png": "[encoded data removed]",
      "text/plain": [
       "<Figure size 1080x720 with 1 Axes>"
      ]
     },
     "metadata": {},
     "output_type": "display_data"
    },
    {
     "data": {
      "text/plain": [
       "0.8025806451612902"
      ]
     },
     "metadata": {},
     "output_type": "display_data"
    }
   ],
   "source": [
    "from common import plot_roc\n",
    "plot_roc(y_val_2, tp1_result)"
   ]
  },
  {
   "cell_type": "code",
   "execution_count": 10,
   "id": "settled-vanilla",
   "metadata": {},
   "outputs": [
    {
     "name": "stderr",
     "output_type": "stream",
     "text": [
      "/home/alexander/.local/lib/python3.8/site-packages/sklearn/utils/validation.py:67: FutureWarning: Pass labels=[0, 1] as keyword args. From version 0.25 passing these as positional arguments will result in an error\n",
      "  warnings.warn(\"Pass {} as keyword args. From version 0.25 \"\n"
     ]
    },
    {
     "data": {
      "image/png": "[encoded data removed]",
      "text/plain": [
       "<Figure size 600x400 with 2 Axes>"
      ]
     },
     "metadata": {},
     "output_type": "display_data"
    }
   ],
   "source": [
    "from sklearn.metrics import confusion_matrix\n",
    "import pandas as pd\n",
    "import matplotlib.pyplot as plt\n",
    "import seaborn as sns\n",
    "\n",
    "def plot_confusion_matrix(y_true, y_pred):\n",
    "    names = sorted(set(y_true))\n",
    "    cm = confusion_matrix(y_true, y_pred, names)\n",
    "    df_cm = pd.DataFrame(cm, names, names)\n",
    "\n",
    "    plt.figure(dpi=100)\n",
    "    plt.title(\"Matriz de confusion\")\n",
    "    sns.heatmap(df_cm, annot=True, annot_kws={\"size\": 16}, fmt='g', square=True)\n",
    "    plt.ylabel(\"True label\")\n",
    "    plt.xlabel(\"Predicted label\")\n",
    "    plt.show()\n",
    "\n",
    "\n",
    "plot_confusion_matrix(y_val_2, tp1_result)"
   ]
  },
  {
   "cell_type": "code",
   "execution_count": 11,
   "id": "frequent-grade",
   "metadata": {},
   "outputs": [
    {
     "data": {
      "image/png": "[encoded data removed]",
      "text/plain": [
       "<Figure size 900x600 with 1 Axes>"
      ]
     },
     "metadata": {},
     "output_type": "display_data"
    },
    {
     "data": {
      "text/plain": [
       "Roc_auc      0.802581\n",
       "Accuracy     0.839506\n",
       "Precision    0.909091\n",
       "Recall       0.645161\n",
       "F1           0.754717\n",
       "dtype: float64"
      ]
     },
     "metadata": {},
     "output_type": "display_data"
    }
   ],
   "source": [
    "from common import plot_metrics\n",
    "plot_metrics(y_val_2, tp1_result, tp1_result)"
   ]
  }
 ],
 "metadata": {
  "kernelspec": {
   "display_name": "Python 3",
   "language": "python",
   "name": "python3"
  },
  "language_info": {
   "codemirror_mode": {
    "name": "ipython",
    "version": 3
   },
   "file_extension": ".py",
   "mimetype": "text/x-python",
   "name": "python",
   "nbconvert_exporter": "python",
   "pygments_lexer": "ipython3",
   "version": "3.8.5"
  }
 },
 "nbformat": 4,
 "nbformat_minor": 5
}
