{
 "cells": [
  {
   "cell_type": "markdown",
   "id": "functioning-database",
   "metadata": {},
   "source": [
    "# Bagging Classifier"
   ]
  },
  {
   "cell_type": "code",
   "execution_count": 1,
   "id": "opening-baghdad",
   "metadata": {},
   "outputs": [],
   "source": [
    "from common import get_prediction, split_data, get_data\n",
    "import preprocessing as prep\n",
    "import numpy as np"
   ]
  },
  {
   "cell_type": "markdown",
   "id": "correct-nature",
   "metadata": {},
   "source": [
    "## Cargamos el dataset"
   ]
  },
  {
   "cell_type": "code",
   "execution_count": 2,
   "id": "dynamic-peter",
   "metadata": {},
   "outputs": [
    {
     "data": {
      "text/html": [
       "<div>\n",
       "<style scoped>\n",
       "    .dataframe tbody tr th:only-of-type {\n",
       "        vertical-align: middle;\n",
       "    }\n",
       "\n",
       "    .dataframe tbody tr th {\n",
       "        vertical-align: top;\n",
       "    }\n",
       "\n",
       "    .dataframe thead th {\n",
       "        text-align: right;\n",
       "    }\n",
       "</style>\n",
       "<table border=\"1\" class=\"dataframe\">\n",
       "  <thead>\n",
       "    <tr style=\"text-align: right;\">\n",
       "      <th></th>\n",
       "      <th>tipo_de_sala</th>\n",
       "      <th>nombre</th>\n",
       "      <th>id_usuario</th>\n",
       "      <th>genero</th>\n",
       "      <th>edad</th>\n",
       "      <th>amigos</th>\n",
       "      <th>parientes</th>\n",
       "      <th>id_ticket</th>\n",
       "      <th>precio_ticket</th>\n",
       "      <th>fila</th>\n",
       "      <th>nombre_sede</th>\n",
       "    </tr>\n",
       "  </thead>\n",
       "  <tbody>\n",
       "    <tr>\n",
       "      <th>0</th>\n",
       "      <td>4d</td>\n",
       "      <td>Señor Camilo Pedro</td>\n",
       "      <td>117</td>\n",
       "      <td>hombre</td>\n",
       "      <td>73.5</td>\n",
       "      <td>0</td>\n",
       "      <td>0</td>\n",
       "      <td>59258;</td>\n",
       "      <td>1</td>\n",
       "      <td>NaN</td>\n",
       "      <td>fiumark_quilmes</td>\n",
       "    </tr>\n",
       "    <tr>\n",
       "      <th>1</th>\n",
       "      <td>4d</td>\n",
       "      <td>Señora Raquel Angelica</td>\n",
       "      <td>658</td>\n",
       "      <td>mujer</td>\n",
       "      <td>35.0</td>\n",
       "      <td>1</td>\n",
       "      <td>1</td>\n",
       "      <td>586:6;</td>\n",
       "      <td>2</td>\n",
       "      <td>NaN</td>\n",
       "      <td>fiumark_quilmes</td>\n",
       "    </tr>\n",
       "    <tr>\n",
       "      <th>2</th>\n",
       "      <td>normal</td>\n",
       "      <td>Señor Antonio Federico</td>\n",
       "      <td>794</td>\n",
       "      <td>hombre</td>\n",
       "      <td>NaN</td>\n",
       "      <td>0</td>\n",
       "      <td>0</td>\n",
       "      <td>RE\"39822</td>\n",
       "      <td>3</td>\n",
       "      <td>NaN</td>\n",
       "      <td>fiumark_chacarita</td>\n",
       "    </tr>\n",
       "    <tr>\n",
       "      <th>3</th>\n",
       "      <td>4d</td>\n",
       "      <td>Señor Osvaldo Aureliano</td>\n",
       "      <td>455</td>\n",
       "      <td>hombre</td>\n",
       "      <td>NaN</td>\n",
       "      <td>0</td>\n",
       "      <td>0</td>\n",
       "      <td>C17\"4:39</td>\n",
       "      <td>1</td>\n",
       "      <td>NaN</td>\n",
       "      <td>fiumark_palermo</td>\n",
       "    </tr>\n",
       "    <tr>\n",
       "      <th>4</th>\n",
       "      <td>4d</td>\n",
       "      <td>Señorita Rita Eudosia</td>\n",
       "      <td>173</td>\n",
       "      <td>mujer</td>\n",
       "      <td>4.0</td>\n",
       "      <td>1</td>\n",
       "      <td>1</td>\n",
       "      <td>569964</td>\n",
       "      <td>2</td>\n",
       "      <td>NaN</td>\n",
       "      <td>fiumark_palermo</td>\n",
       "    </tr>\n",
       "  </tbody>\n",
       "</table>\n",
       "</div>"
      ],
      "text/plain": [
       "  tipo_de_sala                   nombre  id_usuario  genero  edad  amigos  \\\n",
       "0           4d       Señor Camilo Pedro         117  hombre  73.5       0   \n",
       "1           4d   Señora Raquel Angelica         658   mujer  35.0       1   \n",
       "2       normal   Señor Antonio Federico         794  hombre   NaN       0   \n",
       "3           4d  Señor Osvaldo Aureliano         455  hombre   NaN       0   \n",
       "4           4d    Señorita Rita Eudosia         173   mujer   4.0       1   \n",
       "\n",
       "   parientes id_ticket  precio_ticket fila        nombre_sede  \n",
       "0          0    59258;              1  NaN    fiumark_quilmes  \n",
       "1          1    586:6;              2  NaN    fiumark_quilmes  \n",
       "2          0  RE\"39822              3  NaN  fiumark_chacarita  \n",
       "3          0  C17\"4:39              1  NaN    fiumark_palermo  \n",
       "4          1    569964              2  NaN    fiumark_palermo  "
      ]
     },
     "execution_count": 2,
     "metadata": {},
     "output_type": "execute_result"
    }
   ],
   "source": [
    "data = get_data()\n",
    "data.head()"
   ]
  },
  {
   "cell_type": "code",
   "execution_count": 3,
   "id": "preceding-wireless",
   "metadata": {},
   "outputs": [
    {
     "data": {
      "text/plain": [
       "0    0\n",
       "1    0\n",
       "2    0\n",
       "3    0\n",
       "4    1\n",
       "Name: volveria, dtype: int64"
      ]
     },
     "execution_count": 3,
     "metadata": {},
     "output_type": "execute_result"
    }
   ],
   "source": [
    "pred = get_prediction()\n",
    "pred.head()"
   ]
  },
  {
   "cell_type": "markdown",
   "id": "outer-turner",
   "metadata": {},
   "source": [
    "## Dividimos los datos"
   ]
  },
  {
   "cell_type": "markdown",
   "id": "knowing-customs",
   "metadata": {},
   "source": [
    "Separamos un validation para los modelos"
   ]
  },
  {
   "cell_type": "code",
   "execution_count": 4,
   "id": "veterinary-moses",
   "metadata": {},
   "outputs": [
    {
     "data": {
      "text/html": [
       "<div>\n",
       "<style scoped>\n",
       "    .dataframe tbody tr th:only-of-type {\n",
       "        vertical-align: middle;\n",
       "    }\n",
       "\n",
       "    .dataframe tbody tr th {\n",
       "        vertical-align: top;\n",
       "    }\n",
       "\n",
       "    .dataframe thead th {\n",
       "        text-align: right;\n",
       "    }\n",
       "</style>\n",
       "<table border=\"1\" class=\"dataframe\">\n",
       "  <thead>\n",
       "    <tr style=\"text-align: right;\">\n",
       "      <th></th>\n",
       "      <th>tipo_de_sala</th>\n",
       "      <th>nombre</th>\n",
       "      <th>id_usuario</th>\n",
       "      <th>genero</th>\n",
       "      <th>edad</th>\n",
       "      <th>amigos</th>\n",
       "      <th>parientes</th>\n",
       "      <th>id_ticket</th>\n",
       "      <th>precio_ticket</th>\n",
       "      <th>fila</th>\n",
       "      <th>nombre_sede</th>\n",
       "    </tr>\n",
       "  </thead>\n",
       "  <tbody>\n",
       "    <tr>\n",
       "      <th>239</th>\n",
       "      <td>normal</td>\n",
       "      <td>Señor Celestino Miguel</td>\n",
       "      <td>797</td>\n",
       "      <td>mujer</td>\n",
       "      <td>52.0</td>\n",
       "      <td>0</td>\n",
       "      <td>0</td>\n",
       "      <td>39687</td>\n",
       "      <td>3</td>\n",
       "      <td>adelante</td>\n",
       "      <td>fiumark_palermo</td>\n",
       "    </tr>\n",
       "    <tr>\n",
       "      <th>281</th>\n",
       "      <td>4d</td>\n",
       "      <td>Señora Reina Benita</td>\n",
       "      <td>141</td>\n",
       "      <td>mujer</td>\n",
       "      <td>NaN</td>\n",
       "      <td>0</td>\n",
       "      <td>2</td>\n",
       "      <td>489:</td>\n",
       "      <td>2</td>\n",
       "      <td>NaN</td>\n",
       "      <td>fiumark_chacarita</td>\n",
       "    </tr>\n",
       "    <tr>\n",
       "      <th>504</th>\n",
       "      <td>3d</td>\n",
       "      <td>Señor Emeterio de Jesus</td>\n",
       "      <td>309</td>\n",
       "      <td>hombre</td>\n",
       "      <td>33.0</td>\n",
       "      <td>1</td>\n",
       "      <td>0</td>\n",
       "      <td>R1RR\"55:3</td>\n",
       "      <td>3</td>\n",
       "      <td>NaN</td>\n",
       "      <td>fiumark_chacarita</td>\n",
       "    </tr>\n",
       "    <tr>\n",
       "      <th>230</th>\n",
       "      <td>4d</td>\n",
       "      <td>Señor Juan Jorge Alberto</td>\n",
       "      <td>158</td>\n",
       "      <td>hombre</td>\n",
       "      <td>33.0</td>\n",
       "      <td>0</td>\n",
       "      <td>0</td>\n",
       "      <td>UQVQP1QS\"5;42;2</td>\n",
       "      <td>1</td>\n",
       "      <td>NaN</td>\n",
       "      <td>fiumark_palermo</td>\n",
       "    </tr>\n",
       "    <tr>\n",
       "      <th>738</th>\n",
       "      <td>4d</td>\n",
       "      <td>Señor Pablo Augusto</td>\n",
       "      <td>495</td>\n",
       "      <td>hombre</td>\n",
       "      <td>24.0</td>\n",
       "      <td>0</td>\n",
       "      <td>0</td>\n",
       "      <td>C16\"675:2</td>\n",
       "      <td>1</td>\n",
       "      <td>NaN</td>\n",
       "      <td>fiumark_palermo</td>\n",
       "    </tr>\n",
       "  </tbody>\n",
       "</table>\n",
       "</div>"
      ],
      "text/plain": [
       "    tipo_de_sala                    nombre  id_usuario  genero  edad  amigos  \\\n",
       "239       normal    Señor Celestino Miguel         797   mujer  52.0       0   \n",
       "281           4d       Señora Reina Benita         141   mujer   NaN       0   \n",
       "504           3d   Señor Emeterio de Jesus         309  hombre  33.0       1   \n",
       "230           4d  Señor Juan Jorge Alberto         158  hombre  33.0       0   \n",
       "738           4d       Señor Pablo Augusto         495  hombre  24.0       0   \n",
       "\n",
       "     parientes        id_ticket  precio_ticket      fila        nombre_sede  \n",
       "239          0            39687              3  adelante    fiumark_palermo  \n",
       "281          2             489:              2       NaN  fiumark_chacarita  \n",
       "504          0        R1RR\"55:3              3       NaN  fiumark_chacarita  \n",
       "230          0  UQVQP1QS\"5;42;2              1       NaN    fiumark_palermo  \n",
       "738          0        C16\"675:2              1       NaN    fiumark_palermo  "
      ]
     },
     "execution_count": 4,
     "metadata": {},
     "output_type": "execute_result"
    }
   ],
   "source": [
    "X_train_val, X_val_2, y_train_val, y_val_2 = split_data(data, pred)\n",
    "X_train_val.head()"
   ]
  },
  {
   "cell_type": "markdown",
   "id": "unsigned-brooks",
   "metadata": {},
   "source": [
    "Separamos otro validation para elegir el mejor modelo en una familia de modelos con el mejor preprocesado"
   ]
  },
  {
   "cell_type": "code",
   "execution_count": 5,
   "id": "young-chapel",
   "metadata": {},
   "outputs": [
    {
     "data": {
      "text/html": [
       "<div>\n",
       "<style scoped>\n",
       "    .dataframe tbody tr th:only-of-type {\n",
       "        vertical-align: middle;\n",
       "    }\n",
       "\n",
       "    .dataframe tbody tr th {\n",
       "        vertical-align: top;\n",
       "    }\n",
       "\n",
       "    .dataframe thead th {\n",
       "        text-align: right;\n",
       "    }\n",
       "</style>\n",
       "<table border=\"1\" class=\"dataframe\">\n",
       "  <thead>\n",
       "    <tr style=\"text-align: right;\">\n",
       "      <th></th>\n",
       "      <th>tipo_de_sala</th>\n",
       "      <th>nombre</th>\n",
       "      <th>id_usuario</th>\n",
       "      <th>genero</th>\n",
       "      <th>edad</th>\n",
       "      <th>amigos</th>\n",
       "      <th>parientes</th>\n",
       "      <th>id_ticket</th>\n",
       "      <th>precio_ticket</th>\n",
       "      <th>fila</th>\n",
       "      <th>nombre_sede</th>\n",
       "    </tr>\n",
       "  </thead>\n",
       "  <tbody>\n",
       "    <tr>\n",
       "      <th>475</th>\n",
       "      <td>4d</td>\n",
       "      <td>Señor Ignacio Nazar</td>\n",
       "      <td>689</td>\n",
       "      <td>hombre</td>\n",
       "      <td>21.0</td>\n",
       "      <td>0</td>\n",
       "      <td>0</td>\n",
       "      <td>572258</td>\n",
       "      <td>1</td>\n",
       "      <td>NaN</td>\n",
       "      <td>fiumark_palermo</td>\n",
       "    </tr>\n",
       "    <tr>\n",
       "      <th>247</th>\n",
       "      <td>4d</td>\n",
       "      <td>Señor Abel Omar</td>\n",
       "      <td>644</td>\n",
       "      <td>hombre</td>\n",
       "      <td>NaN</td>\n",
       "      <td>0</td>\n",
       "      <td>0</td>\n",
       "      <td>3823</td>\n",
       "      <td>6</td>\n",
       "      <td>NaN</td>\n",
       "      <td>fiumark_palermo</td>\n",
       "    </tr>\n",
       "    <tr>\n",
       "      <th>726</th>\n",
       "      <td>normal</td>\n",
       "      <td>Señor Fausto Rene</td>\n",
       "      <td>468</td>\n",
       "      <td>hombre</td>\n",
       "      <td>59.0</td>\n",
       "      <td>0</td>\n",
       "      <td>0</td>\n",
       "      <td>3359;4</td>\n",
       "      <td>3</td>\n",
       "      <td>NaN</td>\n",
       "      <td>fiumark_palermo</td>\n",
       "    </tr>\n",
       "    <tr>\n",
       "      <th>106</th>\n",
       "      <td>3d</td>\n",
       "      <td>Señora Irma Pascualina</td>\n",
       "      <td>707</td>\n",
       "      <td>mujer</td>\n",
       "      <td>48.0</td>\n",
       "      <td>0</td>\n",
       "      <td>0</td>\n",
       "      <td>4457;8</td>\n",
       "      <td>2</td>\n",
       "      <td>NaN</td>\n",
       "      <td>fiumark_palermo</td>\n",
       "    </tr>\n",
       "    <tr>\n",
       "      <th>206</th>\n",
       "      <td>4d</td>\n",
       "      <td>Señor Ovidio Valentin</td>\n",
       "      <td>871</td>\n",
       "      <td>hombre</td>\n",
       "      <td>29.0</td>\n",
       "      <td>0</td>\n",
       "      <td>0</td>\n",
       "      <td>56;46:</td>\n",
       "      <td>1</td>\n",
       "      <td>NaN</td>\n",
       "      <td>fiumark_palermo</td>\n",
       "    </tr>\n",
       "  </tbody>\n",
       "</table>\n",
       "</div>"
      ],
      "text/plain": [
       "    tipo_de_sala                  nombre  id_usuario  genero  edad  amigos  \\\n",
       "475           4d     Señor Ignacio Nazar         689  hombre  21.0       0   \n",
       "247           4d         Señor Abel Omar         644  hombre   NaN       0   \n",
       "726       normal       Señor Fausto Rene         468  hombre  59.0       0   \n",
       "106           3d  Señora Irma Pascualina         707   mujer  48.0       0   \n",
       "206           4d   Señor Ovidio Valentin         871  hombre  29.0       0   \n",
       "\n",
       "     parientes id_ticket  precio_ticket fila      nombre_sede  \n",
       "475          0    572258              1  NaN  fiumark_palermo  \n",
       "247          0      3823              6  NaN  fiumark_palermo  \n",
       "726          0    3359;4              3  NaN  fiumark_palermo  \n",
       "106          0    4457;8              2  NaN  fiumark_palermo  \n",
       "206          0    56;46:              1  NaN  fiumark_palermo  "
      ]
     },
     "execution_count": 5,
     "metadata": {},
     "output_type": "execute_result"
    }
   ],
   "source": [
    "X_train, X_val, y_train, y_val = split_data(X_train_val, y_train_val)\n",
    "X_train.head()"
   ]
  },
  {
   "cell_type": "markdown",
   "id": "commercial-nirvana",
   "metadata": {},
   "source": [
    "## Entrenamos los modelos"
   ]
  },
  {
   "cell_type": "markdown",
   "id": "promotional-newman",
   "metadata": {},
   "source": [
    "Al igual que la mayoria de los modelos se preprocesara de las formas anteriormente explicadas"
   ]
  },
  {
   "cell_type": "code",
   "execution_count": 6,
   "id": "underlying-malawi",
   "metadata": {},
   "outputs": [],
   "source": [
    "# Con la columna fila\n",
    "prep_base_1 = prep.Preprocessing(\n",
    "    [prep.Drop_high_cardinals(), prep.Dummy_variables()]\n",
    ")\n",
    "\n",
    "# Rellenado de nan con zeros\n",
    "prep_1 = prep.Preprocessing(\n",
    "    [prep_base_1, prep.Nan_to_zero()]\n",
    ")\n",
    "\n",
    "# Rellenado de nan con la media\n",
    "prep_2 = prep.Preprocessing(\n",
    "    [prep_base_1, prep.Nan_to_mean()]\n",
    ")\n",
    "\n",
    "# Rellenado de nan con la moda\n",
    "prep_3 = prep.Preprocessing(\n",
    "    [prep_base_1, prep.Nan_to_mode()]\n",
    ")\n",
    "\n",
    "# Rellenado de nan con la median\n",
    "prep_4 = prep.Preprocessing(\n",
    "    [prep_base_1, prep.Nan_to_median()]\n",
    ")"
   ]
  },
  {
   "cell_type": "code",
   "execution_count": 7,
   "id": "transsexual-capitol",
   "metadata": {},
   "outputs": [],
   "source": [
    "# Sin la columna fila\n",
    "prep_base_2 = prep.Preprocessing(\n",
    "    [prep.Drop_high_cardinals(), prep.Drop_column_nan(), prep.Dummy_variables()]\n",
    ")\n",
    "\n",
    "# Rellenado de nan con zeros\n",
    "prep_5 = prep.Preprocessing(\n",
    "    [prep_base_2, prep.Nan_to_zero()]\n",
    ")\n",
    "\n",
    "# Rellenado de nan con la media\n",
    "prep_6 = prep.Preprocessing(\n",
    "    [prep_base_2, prep.Nan_to_mean()]\n",
    ")\n",
    "\n",
    "# Rellenado de nan con la moda\n",
    "prep_7 = prep.Preprocessing(\n",
    "    [prep_base_2, prep.Nan_to_mode()]\n",
    ")\n",
    "\n",
    "# Rellenado de nan con la median\n",
    "prep_8 = prep.Preprocessing(\n",
    "    [prep_base_2, prep.Nan_to_median()]\n",
    ")"
   ]
  },
  {
   "cell_type": "code",
   "execution_count": 8,
   "id": "healthy-clause",
   "metadata": {},
   "outputs": [],
   "source": [
    "list_preprocessing = [\n",
    "    # con la columna fila\n",
    "    prep_1, prep_2, prep_3, prep_4,\n",
    "    # sin la columna fila\n",
    "    prep_5, prep_6, prep_7, prep_8\n",
    "]"
   ]
  },
  {
   "cell_type": "markdown",
   "id": "distant-invite",
   "metadata": {},
   "source": [
    "Definimos el modelo"
   ]
  },
  {
   "cell_type": "code",
   "execution_count": 9,
   "id": "iraqi-makeup",
   "metadata": {},
   "outputs": [],
   "source": [
    "from sklearn.ensemble import BaggingClassifier\n",
    "from sklearn.tree import DecisionTreeClassifier"
   ]
  },
  {
   "cell_type": "code",
   "execution_count": 10,
   "id": "alleged-garage",
   "metadata": {
    "lines_to_next_cell": 2
   },
   "outputs": [],
   "source": [
    "model_bagging = BaggingClassifier(\n",
    "    random_state = 20, n_jobs=-1\n",
    ")"
   ]
  },
  {
   "cell_type": "markdown",
   "id": "automatic-breathing",
   "metadata": {},
   "source": [
    "Los entrenamos buscando la mejor combinacion de numero de estimadores y estimador base"
   ]
  },
  {
   "cell_type": "code",
   "execution_count": 11,
   "id": "fifth-schema",
   "metadata": {},
   "outputs": [],
   "source": [
    "from common import super_training\n",
    "from sklearn.model_selection import GridSearchCV\n",
    "\n",
    "params = {\n",
    "    'n_estimators': np.arange(1, 100),\n",
    "    'base_estimator': [\n",
    "        DecisionTreeClassifier(max_depth=3, random_state=20),\n",
    "        DecisionTreeClassifier(max_depth=4, random_state=20),\n",
    "        DecisionTreeClassifier(max_depth=5, random_state=20),\n",
    "        DecisionTreeClassifier(max_depth=6, random_state=20)\n",
    "    ]\n",
    "}\n",
    "\n",
    "# 15 minutos para entrenar\n",
    "models_preprocessing = super_training(\n",
    "    X_train, y_train, list_preprocessing, \n",
    "    GridSearchCV(\n",
    "        model_bagging, params, scoring='roc_auc', n_jobs=-1, cv=5\n",
    "    )\n",
    ")"
   ]
  },
  {
   "cell_type": "code",
   "execution_count": 12,
   "id": "baking-zoning",
   "metadata": {},
   "outputs": [],
   "source": [
    "from common import get_proba_predicts\n",
    "\n",
    "proba_predictions = get_proba_predicts(models_preprocessing, X_val)"
   ]
  },
  {
   "cell_type": "markdown",
   "id": "departmental-begin",
   "metadata": {},
   "source": [
    "Comparamos los distintos modelos mediante la curva auc roc."
   ]
  },
  {
   "cell_type": "code",
   "execution_count": 13,
   "id": "juvenile-certificate",
   "metadata": {},
   "outputs": [
    {
     "data": {
      "text/plain": [
       "<Figure size 432x288 with 0 Axes>"
      ]
     },
     "metadata": {},
     "output_type": "display_data"
    },
    {
     "data": {
      "image/png": "[encoded data removed]",
      "text/plain": [
       "<Figure size 1080x720 with 8 Axes>"
      ]
     },
     "metadata": {},
     "output_type": "display_data"
    }
   ],
   "source": [
    "from common import plot_rocs\n",
    "\n",
    "best_model_index = plot_rocs(proba_predictions, y_val, 4, 2)"
   ]
  },
  {
   "cell_type": "markdown",
   "id": "governmental-switch",
   "metadata": {},
   "source": [
    "Escogemos el mejor modelo, que en este caso es el 5"
   ]
  },
  {
   "cell_type": "code",
   "execution_count": 14,
   "id": "consecutive-neutral",
   "metadata": {},
   "outputs": [
    {
     "data": {
      "text/plain": [
       "BaggingClassifier(base_estimator=DecisionTreeClassifier(max_depth=5,\n",
       "                                                        random_state=20),\n",
       "                  n_estimators=29, n_jobs=-1, random_state=20)"
      ]
     },
     "execution_count": 14,
     "metadata": {},
     "output_type": "execute_result"
    }
   ],
   "source": [
    "best_bagging, preprocessing = models_preprocessing[best_model_index]\n",
    "best_bagging"
   ]
  },
  {
   "cell_type": "markdown",
   "id": "desperate-cologne",
   "metadata": {},
   "source": [
    "Con el siguiente preprocesado"
   ]
  },
  {
   "cell_type": "code",
   "execution_count": 15,
   "id": "classical-child",
   "metadata": {},
   "outputs": [
    {
     "name": "stdout",
     "output_type": "stream",
     "text": [
      "Elimina las columnas con alta cardinalidad\n",
      "Elimina las columnas con un porcentaje de valores nan mayor igual al 70%\n",
      "Transforma las variables categoricas en dummy variables\n",
      "Rellena los nan de edad con la media\n"
     ]
    }
   ],
   "source": [
    "preprocessing.function()"
   ]
  },
  {
   "cell_type": "markdown",
   "id": "controversial-nigeria",
   "metadata": {},
   "source": [
    "## Vemos las metricas del mejor modelo"
   ]
  },
  {
   "cell_type": "markdown",
   "id": "corporate-description",
   "metadata": {},
   "source": [
    "Preprocesamos los datos"
   ]
  },
  {
   "cell_type": "code",
   "execution_count": 16,
   "id": "collect-imagination",
   "metadata": {},
   "outputs": [
    {
     "data": {
      "text/html": [
       "<div>\n",
       "<style scoped>\n",
       "    .dataframe tbody tr th:only-of-type {\n",
       "        vertical-align: middle;\n",
       "    }\n",
       "\n",
       "    .dataframe tbody tr th {\n",
       "        vertical-align: top;\n",
       "    }\n",
       "\n",
       "    .dataframe thead th {\n",
       "        text-align: right;\n",
       "    }\n",
       "</style>\n",
       "<table border=\"1\" class=\"dataframe\">\n",
       "  <thead>\n",
       "    <tr style=\"text-align: right;\">\n",
       "      <th></th>\n",
       "      <th>edad</th>\n",
       "      <th>amigos</th>\n",
       "      <th>parientes</th>\n",
       "      <th>precio_ticket</th>\n",
       "      <th>tipo_de_sala_4d</th>\n",
       "      <th>tipo_de_sala_normal</th>\n",
       "      <th>genero_mujer</th>\n",
       "      <th>nombre_sede_fiumark_palermo</th>\n",
       "      <th>nombre_sede_fiumark_quilmes</th>\n",
       "      <th>nombre_sede_nan</th>\n",
       "    </tr>\n",
       "  </thead>\n",
       "  <tbody>\n",
       "    <tr>\n",
       "      <th>713</th>\n",
       "      <td>24.0</td>\n",
       "      <td>0</td>\n",
       "      <td>1</td>\n",
       "      <td>8</td>\n",
       "      <td>0</td>\n",
       "      <td>1</td>\n",
       "      <td>0</td>\n",
       "      <td>1</td>\n",
       "      <td>0</td>\n",
       "      <td>0</td>\n",
       "    </tr>\n",
       "    <tr>\n",
       "      <th>370</th>\n",
       "      <td>22.0</td>\n",
       "      <td>0</td>\n",
       "      <td>0</td>\n",
       "      <td>1</td>\n",
       "      <td>1</td>\n",
       "      <td>0</td>\n",
       "      <td>0</td>\n",
       "      <td>1</td>\n",
       "      <td>0</td>\n",
       "      <td>0</td>\n",
       "    </tr>\n",
       "    <tr>\n",
       "      <th>114</th>\n",
       "      <td>35.5</td>\n",
       "      <td>1</td>\n",
       "      <td>0</td>\n",
       "      <td>3</td>\n",
       "      <td>0</td>\n",
       "      <td>0</td>\n",
       "      <td>0</td>\n",
       "      <td>0</td>\n",
       "      <td>0</td>\n",
       "      <td>0</td>\n",
       "    </tr>\n",
       "    <tr>\n",
       "      <th>323</th>\n",
       "      <td>22.0</td>\n",
       "      <td>0</td>\n",
       "      <td>0</td>\n",
       "      <td>1</td>\n",
       "      <td>1</td>\n",
       "      <td>0</td>\n",
       "      <td>1</td>\n",
       "      <td>0</td>\n",
       "      <td>1</td>\n",
       "      <td>0</td>\n",
       "    </tr>\n",
       "    <tr>\n",
       "      <th>131</th>\n",
       "      <td>7.0</td>\n",
       "      <td>0</td>\n",
       "      <td>2</td>\n",
       "      <td>3</td>\n",
       "      <td>1</td>\n",
       "      <td>0</td>\n",
       "      <td>1</td>\n",
       "      <td>1</td>\n",
       "      <td>0</td>\n",
       "      <td>0</td>\n",
       "    </tr>\n",
       "  </tbody>\n",
       "</table>\n",
       "</div>"
      ],
      "text/plain": [
       "     edad  amigos  parientes  precio_ticket  tipo_de_sala_4d  \\\n",
       "713  24.0       0          1              8                0   \n",
       "370  22.0       0          0              1                1   \n",
       "114  35.5       1          0              3                0   \n",
       "323  22.0       0          0              1                1   \n",
       "131   7.0       0          2              3                1   \n",
       "\n",
       "     tipo_de_sala_normal  genero_mujer  nombre_sede_fiumark_palermo  \\\n",
       "713                    1             0                            1   \n",
       "370                    0             0                            1   \n",
       "114                    0             0                            0   \n",
       "323                    0             1                            0   \n",
       "131                    0             1                            1   \n",
       "\n",
       "     nombre_sede_fiumark_quilmes  nombre_sede_nan  \n",
       "713                            0                0  \n",
       "370                            0                0  \n",
       "114                            0                0  \n",
       "323                            1                0  \n",
       "131                            0                0  "
      ]
     },
     "execution_count": 16,
     "metadata": {},
     "output_type": "execute_result"
    }
   ],
   "source": [
    "X_val_2_ = preprocessing.transform(X_val_2)\n",
    "X_val_2_.head()"
   ]
  },
  {
   "cell_type": "code",
   "execution_count": 17,
   "id": "delayed-yorkshire",
   "metadata": {},
   "outputs": [
    {
     "data": {
      "image/png": "[encoded data removed]",
      "text/plain": [
       "<Figure size 1080x720 with 1 Axes>"
      ]
     },
     "metadata": {},
     "output_type": "display_data"
    },
    {
     "data": {
      "text/plain": [
       "0.8574193548387097"
      ]
     },
     "metadata": {},
     "output_type": "display_data"
    }
   ],
   "source": [
    "from common import plot_roc\n",
    "plot_roc(y_val_2, best_bagging.predict_proba(X_val_2_)[:,1])"
   ]
  },
  {
   "cell_type": "code",
   "execution_count": 18,
   "id": "bibliographic-nation",
   "metadata": {},
   "outputs": [
    {
     "data": {
      "image/png": "[encoded data removed]",
      "text/plain": [
       "<Figure size 1080x504 with 2 Axes>"
      ]
     },
     "metadata": {},
     "output_type": "display_data"
    }
   ],
   "source": [
    "from common import plot_confusion\n",
    "plot_confusion(\n",
    "    best_bagging, \n",
    "    X_val_2_, \n",
    "    y_val_2\n",
    ")"
   ]
  },
  {
   "cell_type": "code",
   "execution_count": 19,
   "id": "periodic-concentration",
   "metadata": {},
   "outputs": [
    {
     "data": {
      "image/png": "[encoded data removed]",
      "text/plain": [
       "<Figure size 900x600 with 1 Axes>"
      ]
     },
     "metadata": {},
     "output_type": "display_data"
    },
    {
     "data": {
      "text/plain": [
       "Roc_auc      0.857419\n",
       "Accuracy     0.839506\n",
       "Precision    0.875000\n",
       "Recall       0.677419\n",
       "F1           0.763636\n",
       "dtype: float64"
      ]
     },
     "metadata": {},
     "output_type": "display_data"
    }
   ],
   "source": [
    "from common import plot_metrics\n",
    "plot_metrics(\n",
    "    y_val_2, \n",
    "    best_bagging.predict_proba(X_val_2_)[:,1], \n",
    "    best_bagging.predict(X_val_2_)\n",
    ")"
   ]
  },
  {
   "cell_type": "markdown",
   "id": "decent-facial",
   "metadata": {},
   "source": [
    "# Hacemos la predicción sobre el holdout de la empresa"
   ]
  },
  {
   "cell_type": "code",
   "execution_count": 20,
   "id": "bibliographic-pitch",
   "metadata": {},
   "outputs": [
    {
     "data": {
      "text/html": [
       "<div>\n",
       "<style scoped>\n",
       "    .dataframe tbody tr th:only-of-type {\n",
       "        vertical-align: middle;\n",
       "    }\n",
       "\n",
       "    .dataframe tbody tr th {\n",
       "        vertical-align: top;\n",
       "    }\n",
       "\n",
       "    .dataframe thead th {\n",
       "        text-align: right;\n",
       "    }\n",
       "</style>\n",
       "<table border=\"1\" class=\"dataframe\">\n",
       "  <thead>\n",
       "    <tr style=\"text-align: right;\">\n",
       "      <th></th>\n",
       "      <th>tipo_de_sala</th>\n",
       "      <th>nombre</th>\n",
       "      <th>id_usuario</th>\n",
       "      <th>genero</th>\n",
       "      <th>edad</th>\n",
       "      <th>amigos</th>\n",
       "      <th>parientes</th>\n",
       "      <th>id_ticket</th>\n",
       "      <th>precio_ticket</th>\n",
       "      <th>fila</th>\n",
       "      <th>nombre_sede</th>\n",
       "    </tr>\n",
       "  </thead>\n",
       "  <tbody>\n",
       "    <tr>\n",
       "      <th>0</th>\n",
       "      <td>4d</td>\n",
       "      <td>Señorita Beatriz Estela</td>\n",
       "      <td>650</td>\n",
       "      <td>mujer</td>\n",
       "      <td>26.0</td>\n",
       "      <td>0</td>\n",
       "      <td>0</td>\n",
       "      <td>EC0\"4536</td>\n",
       "      <td>1</td>\n",
       "      <td>NaN</td>\n",
       "      <td>fiumark_palermo</td>\n",
       "    </tr>\n",
       "    <tr>\n",
       "      <th>1</th>\n",
       "      <td>4d</td>\n",
       "      <td>Señorita Elena Herminda</td>\n",
       "      <td>234</td>\n",
       "      <td>mujer</td>\n",
       "      <td>8.0</td>\n",
       "      <td>4</td>\n",
       "      <td>2</td>\n",
       "      <td>569299</td>\n",
       "      <td>4</td>\n",
       "      <td>NaN</td>\n",
       "      <td>fiumark_palermo</td>\n",
       "    </tr>\n",
       "    <tr>\n",
       "      <th>2</th>\n",
       "      <td>normal</td>\n",
       "      <td>Señor Humberto Americo</td>\n",
       "      <td>31</td>\n",
       "      <td>hombre</td>\n",
       "      <td>43.0</td>\n",
       "      <td>0</td>\n",
       "      <td>0</td>\n",
       "      <td>RE\"39823</td>\n",
       "      <td>3</td>\n",
       "      <td>NaN</td>\n",
       "      <td>fiumark_chacarita</td>\n",
       "    </tr>\n",
       "    <tr>\n",
       "      <th>3</th>\n",
       "      <td>3d</td>\n",
       "      <td>Señor Casiano</td>\n",
       "      <td>552</td>\n",
       "      <td>hombre</td>\n",
       "      <td>30.0</td>\n",
       "      <td>0</td>\n",
       "      <td>0</td>\n",
       "      <td>46657:</td>\n",
       "      <td>3</td>\n",
       "      <td>NaN</td>\n",
       "      <td>fiumark_palermo</td>\n",
       "    </tr>\n",
       "    <tr>\n",
       "      <th>4</th>\n",
       "      <td>4d</td>\n",
       "      <td>Señor Gregorio Nicolas</td>\n",
       "      <td>411</td>\n",
       "      <td>hombre</td>\n",
       "      <td>NaN</td>\n",
       "      <td>0</td>\n",
       "      <td>0</td>\n",
       "      <td>56;444</td>\n",
       "      <td>1</td>\n",
       "      <td>NaN</td>\n",
       "      <td>fiumark_palermo</td>\n",
       "    </tr>\n",
       "  </tbody>\n",
       "</table>\n",
       "</div>"
      ],
      "text/plain": [
       "  tipo_de_sala                   nombre  id_usuario  genero  edad  amigos  \\\n",
       "0           4d  Señorita Beatriz Estela         650   mujer  26.0       0   \n",
       "1           4d  Señorita Elena Herminda         234   mujer   8.0       4   \n",
       "2       normal   Señor Humberto Americo          31  hombre  43.0       0   \n",
       "3           3d            Señor Casiano         552  hombre  30.0       0   \n",
       "4           4d   Señor Gregorio Nicolas         411  hombre   NaN       0   \n",
       "\n",
       "   parientes id_ticket  precio_ticket fila        nombre_sede  \n",
       "0          0  EC0\"4536              1  NaN    fiumark_palermo  \n",
       "1          2    569299              4  NaN    fiumark_palermo  \n",
       "2          0  RE\"39823              3  NaN  fiumark_chacarita  \n",
       "3          0    46657:              3  NaN    fiumark_palermo  \n",
       "4          0    56;444              1  NaN    fiumark_palermo  "
      ]
     },
     "execution_count": 20,
     "metadata": {},
     "output_type": "execute_result"
    }
   ],
   "source": [
    "from common import get_holdout\n",
    "X_holdout_empresa = get_holdout()\n",
    "X_holdout_empresa.head()"
   ]
  },
  {
   "cell_type": "markdown",
   "id": "focal-candle",
   "metadata": {},
   "source": [
    "Preprocesamos el holdout de la empresa con el mejor preprocesamiento para este modelo y separamos "
   ]
  },
  {
   "cell_type": "code",
   "execution_count": 21,
   "id": "unavailable-fancy",
   "metadata": {},
   "outputs": [
    {
     "data": {
      "text/html": [
       "<div>\n",
       "<style scoped>\n",
       "    .dataframe tbody tr th:only-of-type {\n",
       "        vertical-align: middle;\n",
       "    }\n",
       "\n",
       "    .dataframe tbody tr th {\n",
       "        vertical-align: top;\n",
       "    }\n",
       "\n",
       "    .dataframe thead th {\n",
       "        text-align: right;\n",
       "    }\n",
       "</style>\n",
       "<table border=\"1\" class=\"dataframe\">\n",
       "  <thead>\n",
       "    <tr style=\"text-align: right;\">\n",
       "      <th></th>\n",
       "      <th>edad</th>\n",
       "      <th>amigos</th>\n",
       "      <th>parientes</th>\n",
       "      <th>precio_ticket</th>\n",
       "      <th>tipo_de_sala_4d</th>\n",
       "      <th>tipo_de_sala_normal</th>\n",
       "      <th>genero_mujer</th>\n",
       "      <th>nombre_sede_fiumark_palermo</th>\n",
       "      <th>nombre_sede_fiumark_quilmes</th>\n",
       "      <th>nombre_sede_nan</th>\n",
       "    </tr>\n",
       "  </thead>\n",
       "  <tbody>\n",
       "    <tr>\n",
       "      <th>0</th>\n",
       "      <td>26.000000</td>\n",
       "      <td>0</td>\n",
       "      <td>0</td>\n",
       "      <td>1</td>\n",
       "      <td>1</td>\n",
       "      <td>0</td>\n",
       "      <td>1</td>\n",
       "      <td>1</td>\n",
       "      <td>0</td>\n",
       "      <td>0</td>\n",
       "    </tr>\n",
       "    <tr>\n",
       "      <th>1</th>\n",
       "      <td>8.000000</td>\n",
       "      <td>4</td>\n",
       "      <td>2</td>\n",
       "      <td>4</td>\n",
       "      <td>1</td>\n",
       "      <td>0</td>\n",
       "      <td>1</td>\n",
       "      <td>1</td>\n",
       "      <td>0</td>\n",
       "      <td>0</td>\n",
       "    </tr>\n",
       "    <tr>\n",
       "      <th>2</th>\n",
       "      <td>43.000000</td>\n",
       "      <td>0</td>\n",
       "      <td>0</td>\n",
       "      <td>3</td>\n",
       "      <td>0</td>\n",
       "      <td>1</td>\n",
       "      <td>0</td>\n",
       "      <td>0</td>\n",
       "      <td>0</td>\n",
       "      <td>0</td>\n",
       "    </tr>\n",
       "    <tr>\n",
       "      <th>3</th>\n",
       "      <td>30.000000</td>\n",
       "      <td>0</td>\n",
       "      <td>0</td>\n",
       "      <td>3</td>\n",
       "      <td>0</td>\n",
       "      <td>0</td>\n",
       "      <td>0</td>\n",
       "      <td>1</td>\n",
       "      <td>0</td>\n",
       "      <td>0</td>\n",
       "    </tr>\n",
       "    <tr>\n",
       "      <th>4</th>\n",
       "      <td>32.960478</td>\n",
       "      <td>0</td>\n",
       "      <td>0</td>\n",
       "      <td>1</td>\n",
       "      <td>1</td>\n",
       "      <td>0</td>\n",
       "      <td>0</td>\n",
       "      <td>1</td>\n",
       "      <td>0</td>\n",
       "      <td>0</td>\n",
       "    </tr>\n",
       "  </tbody>\n",
       "</table>\n",
       "</div>"
      ],
      "text/plain": [
       "        edad  amigos  parientes  precio_ticket  tipo_de_sala_4d  \\\n",
       "0  26.000000       0          0              1                1   \n",
       "1   8.000000       4          2              4                1   \n",
       "2  43.000000       0          0              3                0   \n",
       "3  30.000000       0          0              3                0   \n",
       "4  32.960478       0          0              1                1   \n",
       "\n",
       "   tipo_de_sala_normal  genero_mujer  nombre_sede_fiumark_palermo  \\\n",
       "0                    0             1                            1   \n",
       "1                    0             1                            1   \n",
       "2                    1             0                            0   \n",
       "3                    0             0                            1   \n",
       "4                    0             0                            1   \n",
       "\n",
       "   nombre_sede_fiumark_quilmes  nombre_sede_nan  \n",
       "0                            0                0  \n",
       "1                            0                0  \n",
       "2                            0                0  \n",
       "3                            0                0  \n",
       "4                            0                0  "
      ]
     },
     "execution_count": 21,
     "metadata": {},
     "output_type": "execute_result"
    }
   ],
   "source": [
    "ussers = X_holdout_empresa['id_usuario']\n",
    "p = prep.Preprocessing_Tree_Bagging()\n",
    "p.fit(X_train)\n",
    "X_holdout_empresa_ = p.transform(X_holdout_empresa)\n",
    "X_holdout_empresa_.head()"
   ]
  },
  {
   "cell_type": "markdown",
   "id": "harmful-methodology",
   "metadata": {},
   "source": [
    "Predecimos con el mejor modelo"
   ]
  },
  {
   "cell_type": "code",
   "execution_count": 22,
   "id": "practical-edition",
   "metadata": {},
   "outputs": [
    {
     "data": {
      "text/plain": [
       "array([1, 0, 1, 0, 0, 1, 1, 0, 0, 1, 1, 1, 1, 0, 0, 1, 0, 1, 0, 0, 1, 0,\n",
       "       0, 1, 0, 1, 0, 1, 0, 1, 1, 1, 0, 1, 1, 0, 0, 0, 0, 1, 0, 1, 0, 0,\n",
       "       0, 0, 0, 0, 1, 1, 0, 0, 0, 0, 0, 0, 0, 1, 0, 0, 1, 1, 0, 0, 0, 1,\n",
       "       0, 0, 1, 1, 0, 0, 0, 0, 0, 1, 0, 0, 0, 0, 0, 0, 1, 0, 0, 0, 0, 0,\n",
       "       0, 0])"
      ]
     },
     "execution_count": 22,
     "metadata": {},
     "output_type": "execute_result"
    }
   ],
   "source": [
    "volveria = best_bagging.predict(X_holdout_empresa_)\n",
    "volveria"
   ]
  },
  {
   "cell_type": "markdown",
   "id": "stuffed-foundation",
   "metadata": {},
   "source": [
    "Generamos el dataframe de las predicciones"
   ]
  },
  {
   "cell_type": "code",
   "execution_count": 23,
   "id": "faced-design",
   "metadata": {},
   "outputs": [
    {
     "data": {
      "text/html": [
       "<div>\n",
       "<style scoped>\n",
       "    .dataframe tbody tr th:only-of-type {\n",
       "        vertical-align: middle;\n",
       "    }\n",
       "\n",
       "    .dataframe tbody tr th {\n",
       "        vertical-align: top;\n",
       "    }\n",
       "\n",
       "    .dataframe thead th {\n",
       "        text-align: right;\n",
       "    }\n",
       "</style>\n",
       "<table border=\"1\" class=\"dataframe\">\n",
       "  <thead>\n",
       "    <tr style=\"text-align: right;\">\n",
       "      <th></th>\n",
       "      <th>id_usuario</th>\n",
       "      <th>volveria</th>\n",
       "    </tr>\n",
       "  </thead>\n",
       "  <tbody>\n",
       "    <tr>\n",
       "      <th>0</th>\n",
       "      <td>650</td>\n",
       "      <td>1</td>\n",
       "    </tr>\n",
       "    <tr>\n",
       "      <th>1</th>\n",
       "      <td>234</td>\n",
       "      <td>0</td>\n",
       "    </tr>\n",
       "    <tr>\n",
       "      <th>2</th>\n",
       "      <td>31</td>\n",
       "      <td>1</td>\n",
       "    </tr>\n",
       "    <tr>\n",
       "      <th>3</th>\n",
       "      <td>552</td>\n",
       "      <td>0</td>\n",
       "    </tr>\n",
       "    <tr>\n",
       "      <th>4</th>\n",
       "      <td>411</td>\n",
       "      <td>0</td>\n",
       "    </tr>\n",
       "  </tbody>\n",
       "</table>\n",
       "</div>"
      ],
      "text/plain": [
       "   id_usuario  volveria\n",
       "0         650         1\n",
       "1         234         0\n",
       "2          31         1\n",
       "3         552         0\n",
       "4         411         0"
      ]
     },
     "execution_count": 23,
     "metadata": {},
     "output_type": "execute_result"
    }
   ],
   "source": [
    "import pandas as pd\n",
    "predictions = pd.DataFrame({\n",
    "    'id_usuario': ussers, \n",
    "    'volveria': volveria\n",
    "})\n",
    "predictions.head()"
   ]
  },
  {
   "cell_type": "markdown",
   "id": "imperial-chicken",
   "metadata": {},
   "source": [
    "Guardamos el archivo"
   ]
  },
  {
   "cell_type": "code",
   "execution_count": 24,
   "id": "historical-amount",
   "metadata": {},
   "outputs": [],
   "source": [
    "predictions.to_csv(\n",
    "    'Bagging.csv', \n",
    "    columns=predictions.columns, \n",
    "    index=False\n",
    ")"
   ]
  }
 ],
 "metadata": {
  "kernelspec": {
   "display_name": "Python 3",
   "language": "python",
   "name": "python3"
  },
  "language_info": {
   "codemirror_mode": {
    "name": "ipython",
    "version": 3
   },
   "file_extension": ".py",
   "mimetype": "text/x-python",
   "name": "python",
   "nbconvert_exporter": "python",
   "pygments_lexer": "ipython3",
   "version": "3.8.5"
  }
 },
 "nbformat": 4,
 "nbformat_minor": 5
}
